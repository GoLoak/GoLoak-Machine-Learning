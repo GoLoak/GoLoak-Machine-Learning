{
  "nbformat": 4,
  "nbformat_minor": 0,
  "metadata": {
    "colab": {
      "name": "TransferLearning.ipynb",
      "provenance": [],
      "collapsed_sections": []
    },
    "kernelspec": {
      "name": "python3",
      "display_name": "Python 3"
    },
    "language_info": {
      "name": "python"
    },
    "accelerator": "GPU"
  },
  "cells": [
    {
      "cell_type": "markdown",
      "source": [
        "# Transfer Learning"
      ],
      "metadata": {
        "id": "JtneJdefLWNg"
      }
    },
    {
      "cell_type": "code",
      "source": [
        "import itertools\n",
        "import os\n",
        "\n",
        "import matplotlib.pylab as plt\n",
        "import numpy as np\n",
        "\n",
        "import tensorflow as tf\n",
        "import tensorflow_hub as hub"
      ],
      "metadata": {
        "id": "lvBm0sFPLZcL"
      },
      "execution_count": 1,
      "outputs": []
    },
    {
      "cell_type": "code",
      "source": [
        "MODULE_HANDLE = \"https://tfhub.dev/google/tf2-preview/mobilenet_v2/feature_vector/4\"\n",
        "IMAGE_SIZE = (224, 224)\n",
        "BATCH_SIZE = 16"
      ],
      "metadata": {
        "id": "xFYzbMK5MSaV"
      },
      "execution_count": 2,
      "outputs": []
    },
    {
      "cell_type": "code",
      "source": [
        "# Connect to google drive\n",
        "from google.colab import drive\n",
        "drive.mount('/content/drive')"
      ],
      "metadata": {
        "colab": {
          "base_uri": "https://localhost:8080/"
        },
        "id": "Wct9jYlMM0fG",
        "outputId": "256e7f23-04cb-47da-8aac-29edc14bb4c1"
      },
      "execution_count": 4,
      "outputs": [
        {
          "output_type": "stream",
          "name": "stdout",
          "text": [
            "Drive already mounted at /content/drive; to attempt to forcibly remount, call drive.mount(\"/content/drive\", force_remount=True).\n"
          ]
        }
      ]
    },
    {
      "cell_type": "code",
      "source": [
        "import zipfile\n",
        "\n",
        "# Extract Zip\n",
        "local_zip = '/content/drive/MyDrive/data/ImageCalssification.zip'\n",
        "zip_ref   = zipfile.ZipFile(local_zip, 'r')\n",
        "zip_ref.extractall('/content/')\n",
        "zip_ref.close()"
      ],
      "metadata": {
        "id": "rquUsEcWMW2p"
      },
      "execution_count": 5,
      "outputs": []
    },
    {
      "cell_type": "code",
      "source": [
        "data_dir = \"/content/ImageCalssification\"\n",
        "\n",
        "def build_dataset(subset):\n",
        "  return tf.keras.preprocessing.image_dataset_from_directory(\n",
        "      data_dir,\n",
        "      validation_split=.20,\n",
        "      subset=subset,\n",
        "      label_mode=\"categorical\",\n",
        "      # Seed needs to provided when using validation_split and shuffle = True.\n",
        "      # A fixed seed is used so that the validation set is stable across runs.\n",
        "      seed=100,\n",
        "      image_size=IMAGE_SIZE,\n",
        "      batch_size=1)\n",
        "\n",
        "train_ds = build_dataset(\"training\")\n",
        "class_names = tuple(train_ds.class_names)\n",
        "train_size = train_ds.cardinality().numpy()\n",
        "train_ds = train_ds.unbatch().batch(BATCH_SIZE)\n",
        "train_ds = train_ds.repeat()\n",
        "\n",
        "normalization_layer = tf.keras.layers.Rescaling(1. / 255)\n",
        "preprocessing_model = tf.keras.Sequential([normalization_layer])\n",
        "do_data_augmentation = True\n",
        "if do_data_augmentation:\n",
        "  preprocessing_model.add(\n",
        "      tf.keras.layers.RandomRotation(40))\n",
        "  preprocessing_model.add(\n",
        "      tf.keras.layers.RandomTranslation(0, 0.2))\n",
        "  preprocessing_model.add(\n",
        "      tf.keras.layers.RandomTranslation(0.2, 0))\n",
        "  # Like the old tf.keras.preprocessing.image.ImageDataGenerator(),\n",
        "  # image sizes are fixed when reading, and then a random zoom is applied.\n",
        "  # If all training inputs are larger than image_size, one could also use\n",
        "  # RandomCrop with a batch size of 1 and rebatch later.\n",
        "  preprocessing_model.add(\n",
        "      tf.keras.layers.RandomZoom(0.2, 0.2))\n",
        "  preprocessing_model.add(\n",
        "      tf.keras.layers.RandomFlip(mode=\"horizontal\"))\n",
        "train_ds = train_ds.map(lambda images, labels:\n",
        "                        (preprocessing_model(images), labels))\n",
        "\n",
        "val_ds = build_dataset(\"validation\")\n",
        "valid_size = val_ds.cardinality().numpy()\n",
        "val_ds = val_ds.unbatch().batch(BATCH_SIZE)\n",
        "val_ds = val_ds.map(lambda images, labels:\n",
        "                    (normalization_layer(images), labels))"
      ],
      "metadata": {
        "colab": {
          "base_uri": "https://localhost:8080/"
        },
        "id": "6AyK9cOpOPwR",
        "outputId": "caaff817-c5c8-4e12-f833-156109725dc5"
      },
      "execution_count": 6,
      "outputs": [
        {
          "output_type": "stream",
          "name": "stdout",
          "text": [
            "Found 2243 files belonging to 6 classes.\n",
            "Using 1795 files for training.\n",
            "Found 2243 files belonging to 6 classes.\n",
            "Using 448 files for validation.\n"
          ]
        }
      ]
    },
    {
      "cell_type": "code",
      "source": [
        "do_fine_tuning = True"
      ],
      "metadata": {
        "id": "THUU5PL2Pa9B"
      },
      "execution_count": 7,
      "outputs": []
    },
    {
      "cell_type": "code",
      "source": [
        "model = tf.keras.Sequential([\n",
        "    # Explicitly define the input shape so the model can be properly\n",
        "    # loaded by the TFLiteConverter\n",
        "    tf.keras.layers.InputLayer(input_shape=IMAGE_SIZE + (3,)),\n",
        "    hub.KerasLayer(MODULE_HANDLE, trainable=do_fine_tuning),\n",
        "    tf.keras.layers.Dropout(rate=0.2),\n",
        "    tf.keras.layers.Dense(len(class_names),\n",
        "                          kernel_regularizer=tf.keras.regularizers.l2(0.0001), \n",
        "                          activation='softmax')\n",
        "])\n",
        "model.build((None,)+IMAGE_SIZE+(3,))\n",
        "model.summary()"
      ],
      "metadata": {
        "colab": {
          "base_uri": "https://localhost:8080/"
        },
        "id": "oC1pxoKpPy33",
        "outputId": "e7c7dc83-ea04-4c9a-ef84-2ada0c66828a"
      },
      "execution_count": 8,
      "outputs": [
        {
          "output_type": "stream",
          "name": "stdout",
          "text": [
            "Model: \"sequential_1\"\n",
            "_________________________________________________________________\n",
            " Layer (type)                Output Shape              Param #   \n",
            "=================================================================\n",
            " keras_layer (KerasLayer)    (None, 1280)              2257984   \n",
            "                                                                 \n",
            " dropout (Dropout)           (None, 1280)              0         \n",
            "                                                                 \n",
            " dense (Dense)               (None, 6)                 7686      \n",
            "                                                                 \n",
            "=================================================================\n",
            "Total params: 2,265,670\n",
            "Trainable params: 2,231,558\n",
            "Non-trainable params: 34,112\n",
            "_________________________________________________________________\n"
          ]
        }
      ]
    },
    {
      "cell_type": "code",
      "source": [
        "model.compile(\n",
        "  optimizer=tf.keras.optimizers.SGD(learning_rate=0.005, momentum=0.9), \n",
        "  loss=tf.keras.losses.CategoricalCrossentropy(label_smoothing=0.1),\n",
        "  metrics=['accuracy'])"
      ],
      "metadata": {
        "id": "vC8i5FINQJhd"
      },
      "execution_count": 9,
      "outputs": []
    },
    {
      "cell_type": "code",
      "source": [
        "steps_per_epoch = train_size // BATCH_SIZE\n",
        "validation_steps = valid_size // BATCH_SIZE\n",
        "hist = model.fit(\n",
        "    train_ds,\n",
        "    epochs=25, \n",
        "    steps_per_epoch=steps_per_epoch,\n",
        "    validation_data=val_ds,\n",
        "    validation_steps=validation_steps).history"
      ],
      "metadata": {
        "colab": {
          "base_uri": "https://localhost:8080/"
        },
        "id": "5gE_G4U0QMgl",
        "outputId": "c009bb1a-7bef-4a24-bdbc-92fbbbda9460"
      },
      "execution_count": 10,
      "outputs": [
        {
          "output_type": "stream",
          "name": "stdout",
          "text": [
            "Epoch 1/25\n",
            "112/112 [==============================] - 66s 441ms/step - loss: 1.2379 - accuracy: 0.6685 - val_loss: 1.5839 - val_accuracy: 0.6496\n",
            "Epoch 2/25\n",
            "112/112 [==============================] - 50s 440ms/step - loss: 0.9958 - accuracy: 0.7836 - val_loss: 1.2331 - val_accuracy: 0.7366\n",
            "Epoch 3/25\n",
            "112/112 [==============================] - 48s 431ms/step - loss: 0.9023 - accuracy: 0.8286 - val_loss: 0.8487 - val_accuracy: 0.8750\n",
            "Epoch 4/25\n",
            "112/112 [==============================] - 48s 430ms/step - loss: 0.8300 - accuracy: 0.8600 - val_loss: 0.8721 - val_accuracy: 0.8348\n",
            "Epoch 5/25\n",
            "112/112 [==============================] - 48s 432ms/step - loss: 0.8049 - accuracy: 0.8746 - val_loss: 0.8003 - val_accuracy: 0.8906\n",
            "Epoch 6/25\n",
            "112/112 [==============================] - 48s 431ms/step - loss: 0.7731 - accuracy: 0.8977 - val_loss: 0.8501 - val_accuracy: 0.8549\n",
            "Epoch 7/25\n",
            "112/112 [==============================] - 49s 434ms/step - loss: 0.7441 - accuracy: 0.9050 - val_loss: 0.7735 - val_accuracy: 0.9062\n",
            "Epoch 8/25\n",
            "112/112 [==============================] - 48s 431ms/step - loss: 0.7058 - accuracy: 0.9275 - val_loss: 0.7921 - val_accuracy: 0.8862\n",
            "Epoch 9/25\n",
            "112/112 [==============================] - 49s 435ms/step - loss: 0.6885 - accuracy: 0.9297 - val_loss: 0.7512 - val_accuracy: 0.9107\n",
            "Epoch 10/25\n",
            "112/112 [==============================] - 48s 432ms/step - loss: 0.6798 - accuracy: 0.9320 - val_loss: 0.7831 - val_accuracy: 0.8973\n",
            "Epoch 11/25\n",
            "112/112 [==============================] - 48s 433ms/step - loss: 0.6599 - accuracy: 0.9449 - val_loss: 0.7913 - val_accuracy: 0.9040\n",
            "Epoch 12/25\n",
            "112/112 [==============================] - 48s 432ms/step - loss: 0.6403 - accuracy: 0.9607 - val_loss: 0.7539 - val_accuracy: 0.9085\n",
            "Epoch 13/25\n",
            "112/112 [==============================] - 49s 439ms/step - loss: 0.6324 - accuracy: 0.9584 - val_loss: 0.7672 - val_accuracy: 0.8884\n",
            "Epoch 14/25\n",
            "112/112 [==============================] - 48s 431ms/step - loss: 0.6303 - accuracy: 0.9635 - val_loss: 0.7356 - val_accuracy: 0.9129\n",
            "Epoch 15/25\n",
            "112/112 [==============================] - 48s 430ms/step - loss: 0.6270 - accuracy: 0.9651 - val_loss: 0.7180 - val_accuracy: 0.9196\n",
            "Epoch 16/25\n",
            "112/112 [==============================] - 48s 432ms/step - loss: 0.6223 - accuracy: 0.9618 - val_loss: 0.7008 - val_accuracy: 0.9241\n",
            "Epoch 17/25\n",
            "112/112 [==============================] - 49s 433ms/step - loss: 0.6019 - accuracy: 0.9753 - val_loss: 0.7121 - val_accuracy: 0.9263\n",
            "Epoch 18/25\n",
            "112/112 [==============================] - 48s 431ms/step - loss: 0.5888 - accuracy: 0.9820 - val_loss: 0.6764 - val_accuracy: 0.9308\n",
            "Epoch 19/25\n",
            "112/112 [==============================] - 49s 439ms/step - loss: 0.5883 - accuracy: 0.9770 - val_loss: 0.6971 - val_accuracy: 0.9263\n",
            "Epoch 20/25\n",
            "112/112 [==============================] - 48s 430ms/step - loss: 0.5743 - accuracy: 0.9871 - val_loss: 0.6590 - val_accuracy: 0.9420\n",
            "Epoch 21/25\n",
            "112/112 [==============================] - 48s 429ms/step - loss: 0.5737 - accuracy: 0.9848 - val_loss: 0.7288 - val_accuracy: 0.9129\n",
            "Epoch 22/25\n",
            "112/112 [==============================] - 48s 431ms/step - loss: 0.5821 - accuracy: 0.9815 - val_loss: 0.6876 - val_accuracy: 0.9263\n",
            "Epoch 23/25\n",
            "112/112 [==============================] - 48s 430ms/step - loss: 0.5643 - accuracy: 0.9921 - val_loss: 0.6763 - val_accuracy: 0.9397\n",
            "Epoch 24/25\n",
            "112/112 [==============================] - 48s 429ms/step - loss: 0.5653 - accuracy: 0.9882 - val_loss: 0.6598 - val_accuracy: 0.9487\n",
            "Epoch 25/25\n",
            "112/112 [==============================] - 48s 432ms/step - loss: 0.5617 - accuracy: 0.9916 - val_loss: 0.6538 - val_accuracy: 0.9509\n"
          ]
        }
      ]
    },
    {
      "cell_type": "code",
      "source": [
        "plt.figure()\n",
        "plt.ylabel(\"Loss (training and validation)\")\n",
        "plt.xlabel(\"Training Steps\")\n",
        "plt.ylim([0,2])\n",
        "plt.plot(hist[\"loss\"])\n",
        "plt.plot(hist[\"val_loss\"])\n",
        "\n",
        "plt.figure()\n",
        "plt.ylabel(\"Accuracy (training and validation)\")\n",
        "plt.xlabel(\"Training Steps\")\n",
        "plt.ylim([0,1.1])\n",
        "plt.plot(hist[\"accuracy\"])\n",
        "plt.plot(hist[\"val_accuracy\"])"
      ],
      "metadata": {
        "colab": {
          "base_uri": "https://localhost:8080/",
          "height": 562
        },
        "id": "hJGNjCdBTxYX",
        "outputId": "28c3ae35-b2ab-4900-c18e-26e370001416"
      },
      "execution_count": 11,
      "outputs": [
        {
          "output_type": "execute_result",
          "data": {
            "text/plain": [
              "[<matplotlib.lines.Line2D at 0x7fab0a3a5910>]"
            ]
          },
          "metadata": {},
          "execution_count": 11
        },
        {
          "output_type": "display_data",
          "data": {
            "text/plain": [
              "<Figure size 432x288 with 1 Axes>"
            ],
            "image/png": "[encoded data removed]"
          },
          "metadata": {
            "needs_background": "light"
          }
        },
        {
          "output_type": "display_data",
          "data": {
            "text/plain": [
              "<Figure size 432x288 with 1 Axes>"
            ],
            "image/png": "[encoded data removed]"
          },
          "metadata": {
            "needs_background": "light"
          }
        }
      ]
    },
    {
      "cell_type": "code",
      "source": [
        "x, y = next(iter(val_ds))\n",
        "image = x[0, :, :, :]\n",
        "true_index = np.argmax(y[0])\n",
        "plt.imshow(image)\n",
        "plt.axis('off')\n",
        "plt.show()\n",
        "\n",
        "# Expand the validation image to (1, 224, 224, 3) before predicting the label\n",
        "prediction_scores = model.predict(np.expand_dims(image, axis=0))\n",
        "predicted_index = np.argmax(prediction_scores)\n",
        "print(model.predict(np.expand_dims(image, axis=0)))\n",
        "print(\"True label: \" + class_names[true_index])\n",
        "print(\"Predicted label: \" + class_names[predicted_index])"
      ],
      "metadata": {
        "colab": {
          "base_uri": "https://localhost:8080/",
          "height": 300
        },
        "id": "Z1BzpZsvURHx",
        "outputId": "2722cbae-efcc-4778-81f7-473181fd979d"
      },
      "execution_count": 13,
      "outputs": [
        {
          "output_type": "display_data",
          "data": {
            "text/plain": [
              "<Figure size 432x288 with 1 Axes>"
            ],
            "image/png": "[encoded data removed]"
          },
          "metadata": {
            "needs_background": "light"
          }
        },
        {
          "output_type": "stream",
          "name": "stdout",
          "text": [
            "[[0.01244134 0.00605258 0.95084256 0.00838572 0.00742651 0.01485125]]\n",
            "True label: Botol Plastik\n",
            "Predicted label: Botol Plastik\n"
          ]
        }
      ]
    },
    {
      "cell_type": "code",
      "source": [
        "# Save Model\n",
        "model.save(\"waste.h5\")\n",
        "\n",
        "# Convert to TFlite\n",
        "converter = tf.lite.TFLiteConverter.from_keras_model(model)\n",
        "tflite_model = converter.convert()\n",
        "with open('waste.tflite', 'wb') as f:\n",
        "  f.write(tflite_model)\n",
        "\n",
        "# Create Labels File\n",
        "with open('labels.txt', 'w') as f:\n",
        "    f.write('\\n'.join('%s' % name for name in class_names))"
      ],
      "metadata": {
        "colab": {
          "base_uri": "https://localhost:8080/"
        },
        "id": "rYlTgCH2Utwc",
        "outputId": "509319c9-4484-4b30-ec4a-879525a3e960"
      },
      "execution_count": 14,
      "outputs": [
        {
          "output_type": "stream",
          "name": "stdout",
          "text": [
            "INFO:tensorflow:Assets written to: /tmp/tmpggjg3gid/assets\n"
          ]
        },
        {
          "output_type": "stream",
          "name": "stderr",
          "text": [
            "INFO:tensorflow:Assets written to: /tmp/tmpggjg3gid/assets\n",
            "WARNING:absl:Buffer deduplication procedure will be skipped when flatbuffer library is not properly loaded\n"
          ]
        }
      ]
    },
    {
      "cell_type": "code",
      "source": [
        "# Download model and label\n",
        "from google.colab import files\n",
        "files.download('waste.h5')\n",
        "files.download('waste.tflite')\n",
        "files.download('labels.txt')"
      ],
      "metadata": {
        "colab": {
          "base_uri": "https://localhost:8080/",
          "height": 17
        },
        "id": "_hYTxpn8jrs6",
        "outputId": "6c2698fe-dd06-481e-9138-36b494b17abd"
      },
      "execution_count": 15,
      "outputs": [
        {
          "output_type": "display_data",
          "data": {
            "text/plain": [
              "<IPython.core.display.Javascript object>"
            ],
            "application/javascript": [
              "\n",
              "    async function download(id, filename, size) {\n",
              "      if (!google.colab.kernel.accessAllowed) {\n",
              "        return;\n",
              "      }\n",
              "      const div = document.createElement('div');\n",
              "      const label = document.createElement('label');\n",
              "      label.textContent = `Downloading \"${filename}\": `;\n",
              "      div.appendChild(label);\n",
              "      const progress = document.createElement('progress');\n",
              "      progress.max = size;\n",
              "      div.appendChild(progress);\n",
              "      document.body.appendChild(div);\n",
              "\n",
              "      const buffers = [];\n",
              "      let downloaded = 0;\n",
              "\n",
              "      const channel = await google.colab.kernel.comms.open(id);\n",
              "      // Send a message to notify the kernel that we're ready.\n",
              "      channel.send({})\n",
              "\n",
              "      for await (const message of channel.messages) {\n",
              "        // Send a message to notify the kernel that we're ready.\n",
              "        channel.send({})\n",
              "        if (message.buffers) {\n",
              "          for (const buffer of message.buffers) {\n",
              "            buffers.push(buffer);\n",
              "            downloaded += buffer.byteLength;\n",
              "            progress.value = downloaded;\n",
              "          }\n",
              "        }\n",
              "      }\n",
              "      const blob = new Blob(buffers, {type: 'application/binary'});\n",
              "      const a = document.createElement('a');\n",
              "      a.href = window.URL.createObjectURL(blob);\n",
              "      a.download = filename;\n",
              "      div.appendChild(a);\n",
              "      a.click();\n",
              "      div.remove();\n",
              "    }\n",
              "  "
            ]
          },
          "metadata": {}
        },
        {
          "output_type": "display_data",
          "data": {
            "text/plain": [
              "<IPython.core.display.Javascript object>"
            ],
            "application/javascript": [
              "download(\"download_49206e10-dd73-4144-9eb2-d28b0f91211e\", \"waste.h5\", 18582088)"
            ]
          },
          "metadata": {}
        },
        {
          "output_type": "display_data",
          "data": {
            "text/plain": [
              "<IPython.core.display.Javascript object>"
            ],
            "application/javascript": [
              "\n",
              "    async function download(id, filename, size) {\n",
              "      if (!google.colab.kernel.accessAllowed) {\n",
              "        return;\n",
              "      }\n",
              "      const div = document.createElement('div');\n",
              "      const label = document.createElement('label');\n",
              "      label.textContent = `Downloading \"${filename}\": `;\n",
              "      div.appendChild(label);\n",
              "      const progress = document.createElement('progress');\n",
              "      progress.max = size;\n",
              "      div.appendChild(progress);\n",
              "      document.body.appendChild(div);\n",
              "\n",
              "      const buffers = [];\n",
              "      let downloaded = 0;\n",
              "\n",
              "      const channel = await google.colab.kernel.comms.open(id);\n",
              "      // Send a message to notify the kernel that we're ready.\n",
              "      channel.send({})\n",
              "\n",
              "      for await (const message of channel.messages) {\n",
              "        // Send a message to notify the kernel that we're ready.\n",
              "        channel.send({})\n",
              "        if (message.buffers) {\n",
              "          for (const buffer of message.buffers) {\n",
              "            buffers.push(buffer);\n",
              "            downloaded += buffer.byteLength;\n",
              "            progress.value = downloaded;\n",
              "          }\n",
              "        }\n",
              "      }\n",
              "      const blob = new Blob(buffers, {type: 'application/binary'});\n",
              "      const a = document.createElement('a');\n",
              "      a.href = window.URL.createObjectURL(blob);\n",
              "      a.download = filename;\n",
              "      div.appendChild(a);\n",
              "      a.click();\n",
              "      div.remove();\n",
              "    }\n",
              "  "
            ]
          },
          "metadata": {}
        },
        {
          "output_type": "display_data",
          "data": {
            "text/plain": [
              "<IPython.core.display.Javascript object>"
            ],
            "application/javascript": [
              "download(\"download_dd491009-3121-4b47-a85d-510c39c04575\", \"waste.tflite\", 8897984)"
            ]
          },
          "metadata": {}
        },
        {
          "output_type": "display_data",
          "data": {
            "text/plain": [
              "<IPython.core.display.Javascript object>"
            ],
            "application/javascript": [
              "\n",
              "    async function download(id, filename, size) {\n",
              "      if (!google.colab.kernel.accessAllowed) {\n",
              "        return;\n",
              "      }\n",
              "      const div = document.createElement('div');\n",
              "      const label = document.createElement('label');\n",
              "      label.textContent = `Downloading \"${filename}\": `;\n",
              "      div.appendChild(label);\n",
              "      const progress = document.createElement('progress');\n",
              "      progress.max = size;\n",
              "      div.appendChild(progress);\n",
              "      document.body.appendChild(div);\n",
              "\n",
              "      const buffers = [];\n",
              "      let downloaded = 0;\n",
              "\n",
              "      const channel = await google.colab.kernel.comms.open(id);\n",
              "      // Send a message to notify the kernel that we're ready.\n",
              "      channel.send({})\n",
              "\n",
              "      for await (const message of channel.messages) {\n",
              "        // Send a message to notify the kernel that we're ready.\n",
              "        channel.send({})\n",
              "        if (message.buffers) {\n",
              "          for (const buffer of message.buffers) {\n",
              "            buffers.push(buffer);\n",
              "            downloaded += buffer.byteLength;\n",
              "            progress.value = downloaded;\n",
              "          }\n",
              "        }\n",
              "      }\n",
              "      const blob = new Blob(buffers, {type: 'application/binary'});\n",
              "      const a = document.createElement('a');\n",
              "      a.href = window.URL.createObjectURL(blob);\n",
              "      a.download = filename;\n",
              "      div.appendChild(a);\n",
              "      a.click();\n",
              "      div.remove();\n",
              "    }\n",
              "  "
            ]
          },
          "metadata": {}
        },
        {
          "output_type": "display_data",
          "data": {
            "text/plain": [
              "<IPython.core.display.Javascript object>"
            ],
            "application/javascript": [
              "download(\"download_6ae30cfd-ce9d-4320-beff-39167e2d75af\", \"labels.txt\", 57)"
            ]
          },
          "metadata": {}
        }
      ]
    }
  ]
}